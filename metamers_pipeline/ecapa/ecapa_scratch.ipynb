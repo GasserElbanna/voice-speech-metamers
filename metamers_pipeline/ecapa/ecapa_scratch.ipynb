{
 "cells": [
  {
   "cell_type": "code",
   "execution_count": null,
   "metadata": {
    "vscode": {
     "languageId": "python"
    }
   },
   "outputs": [],
   "source": [
    "# ! pip install git+https://github.com/speechbrain/speechbrain.git@develop\n"
   ]
  },
  {
   "cell_type": "code",
   "execution_count": 2,
   "metadata": {
    "vscode": {
     "languageId": "python"
    }
   },
   "outputs": [],
   "source": [
    "import torch\n",
    "import torchaudio\n",
    "import torchaudio.transforms as T\n",
    "import sys\n",
    "import tqdm\n",
    "\n",
    "from speechbrain.inference.speaker import EncoderClassifier\n",
    "# from speechbrain.inference.speaker import SpeakerRecognition\n",
    "\n",
    "\n",
    "# add robustness in inputs\n",
    "sys.path.append('/om2/user/salavill/misc/voice-speech-metamers/metamers_pipeline/robustness')\n",
    "from attack_steps import L2Step\n"
   ]
  },
  {
   "cell_type": "markdown",
   "metadata": {},
   "source": [
    "Compute your speaker embeddings"
   ]
  },
  {
   "cell_type": "markdown",
   "metadata": {},
   "source": [
    "### Notes about input\n",
    "- needs to 16 kHz"
   ]
  },
  {
   "cell_type": "code",
   "execution_count": 3,
   "metadata": {
    "vscode": {
     "languageId": "python"
    }
   },
   "outputs": [],
   "source": [
    "audio = '/om2/user/amagaro/voice-speech-metamers/metamers_pipeline/kell2018/metamers/psychophysics_wsj400_jsintest_inversion_loss_layer_RS0_I3000_N8/0_SOUND_million/orig.wav'\n",
    "audio2 = '/o#m2/user/amagaro/voice-speech-metamers/metamers_pipeline/kell2018/metamers/psychophysics_wsj400_jsintest_inversion_loss_layer_RS0_I3000_N8/1_SOUND_would/orig.wav'"
   ]
  },
  {
   "cell_type": "code",
   "execution_count": 140,
   "metadata": {
    "vscode": {
     "languageId": "python"
    }
   },
   "outputs": [],
   "source": [
    "# Get embedding for speaker\n",
    "model = EncoderClassifier.from_hparams(source=\"speechbrain/spkrec-ecapa-voxceleb\")\n",
    "# signal, fs = torchaudio.load(audio)\n",
    "# # make sure to resample to appropriate frequency\n",
    "# resampler = T.Resample(fs, 16000, dtype=signal.dtype)\n",
    "# signal = resampler(signal)\n",
    "# embeddings = model.encode_batch(signal)"
   ]
  },
  {
   "cell_type": "markdown",
   "metadata": {},
   "source": [
    "# Load in the dataset"
   ]
  },
  {
   "cell_type": "code",
   "execution_count": 141,
   "metadata": {
    "vscode": {
     "languageId": "python"
    }
   },
   "outputs": [],
   "source": [
    "# load in sound\n",
    "signal, fs = torchaudio.load(audio)\n",
    "# make sure to resample to appropriate frequency\n",
    "resampler = T.Resample(fs, 16000, dtype=signal.dtype)\n",
    "signal = resampler(signal)"
   ]
  },
  {
   "cell_type": "code",
   "execution_count": 142,
   "metadata": {
    "vscode": {
     "languageId": "python"
    }
   },
   "outputs": [
    {
     "data": {
      "text/plain": [
       "tensor([[-1.1256e+01, -4.4376e+00,  5.4710e+00, -4.4777e-01,  9.3813e+00,\n",
       "         -1.7214e+01,  2.0267e+01, -6.4316e+00,  1.1311e+00, -6.9549e+00,\n",
       "         -5.6514e+01,  1.5606e+01,  7.6293e+00,  9.4477e+00,  5.0318e+00,\n",
       "          6.7749e+00,  2.2657e+01,  6.6792e+00,  1.2737e+01,  4.7252e+00,\n",
       "         -1.1207e+00, -3.8659e+01,  5.9548e+01,  1.3946e+01, -2.6766e+01,\n",
       "         -1.5729e+01, -6.6083e+00, -2.0886e+01, -3.2234e+01, -3.1146e+01,\n",
       "          5.3255e+00,  1.0481e+01,  2.7337e+01,  2.0878e+01,  1.0505e+01,\n",
       "         -5.3502e+00,  1.4651e+01, -3.3391e+00, -1.6250e+00, -3.7518e+01,\n",
       "          3.7116e+01,  2.6891e+01, -3.3418e+01,  1.3859e+01,  7.2535e+00,\n",
       "         -3.0828e+00, -1.5202e+01,  8.6623e+00,  2.5144e+01,  3.2541e+01,\n",
       "          1.8105e+01,  4.8451e+00, -1.4034e+01,  3.1070e+01,  8.0962e+01,\n",
       "         -3.7654e+00, -3.5467e+01,  1.6404e+00, -4.7164e+01,  4.4524e+00,\n",
       "         -4.2345e+00, -1.4514e+01,  6.2556e-02,  4.1281e+00,  4.3622e+01,\n",
       "          1.6985e+01, -1.6516e+01, -2.6540e+01,  2.6727e+00, -3.1603e+01,\n",
       "          3.3258e+00, -3.5505e+01,  1.8720e+01, -2.1808e+01, -1.8872e+00,\n",
       "         -1.3916e+00, -2.7441e+01, -2.4367e+01, -5.7156e+00,  3.8040e+01,\n",
       "         -1.5415e+01, -3.0538e+01, -2.0303e+01,  6.6354e+01,  1.8730e+00,\n",
       "          8.0682e+00, -3.3328e+01,  1.3124e+01, -1.2918e+01, -1.7146e+01,\n",
       "         -2.3829e+01, -2.1727e+01, -6.1440e+00, -2.7612e+01, -1.6384e+01,\n",
       "          2.4526e+01, -6.5893e+00, -3.2722e+01, -1.9887e+01,  2.0634e+01,\n",
       "          1.7477e+01, -2.0259e+01,  3.7455e+01,  9.9712e+00, -1.8061e+01,\n",
       "         -1.9119e+01, -2.7633e+01, -3.4407e+01, -2.3868e+01,  2.3601e+00,\n",
       "          3.3531e-01,  1.3801e+00,  7.2202e+00,  1.6068e+00,  1.3931e+01,\n",
       "          2.4974e+01,  3.9576e+00, -1.2300e+00,  2.1811e+01, -2.1508e+01,\n",
       "          3.4360e+00,  5.9893e+01,  1.8813e+01,  2.9763e+01,  6.5974e+01,\n",
       "         -7.8075e+00, -2.5831e+01,  2.4590e+00, -5.1430e+00,  6.1580e+00,\n",
       "         -9.1837e+00, -8.3032e+00,  3.6710e+00,  2.1130e+01, -1.8913e+01,\n",
       "          7.3471e+00,  3.2700e+01, -1.4631e+01, -1.1275e+01, -1.5276e+01,\n",
       "          1.6434e+01, -4.3338e+01, -1.5480e+01, -1.7518e+01,  2.6551e+01,\n",
       "         -5.4128e+00,  1.0347e+01, -7.9452e+00,  3.4692e+01, -2.6122e+01,\n",
       "         -5.2684e+00,  2.8215e+01,  3.3654e+01,  1.3123e+01,  4.1015e+00,\n",
       "          5.6062e-01, -1.6394e+00, -3.1839e+00,  1.6575e+01, -4.9795e+01,\n",
       "          2.0771e+01,  5.3518e+01,  5.2620e+00,  4.5713e+00, -1.6673e+00,\n",
       "          2.9667e+00, -1.2669e+00, -2.0815e+01,  1.5269e+01, -1.7391e+01,\n",
       "         -3.3846e+00, -2.9206e+01,  8.5009e+00, -9.9963e+00,  3.6224e+01,\n",
       "         -2.4530e+01, -2.8037e+01, -7.1087e+00, -8.4272e+00,  4.8270e+00,\n",
       "          2.1113e+01, -4.2163e+01,  1.2716e+01, -4.7814e+00,  1.7438e+01,\n",
       "          3.1207e+00, -2.3804e+00, -4.5262e+01, -1.1057e+01,  6.8855e+00,\n",
       "         -1.8907e+00, -3.5303e+01]])"
      ]
     },
     "execution_count": 142,
     "metadata": {},
     "output_type": "execute_result"
    }
   ],
   "source": [
    "target = model.encode_batch(signal)[0]\n",
    "target"
   ]
  },
  {
   "cell_type": "markdown",
   "metadata": {},
   "source": [
    "# Initialize noise"
   ]
  },
  {
   "cell_type": "code",
   "execution_count": 143,
   "metadata": {
    "vscode": {
     "languageId": "python"
    }
   },
   "outputs": [
    {
     "data": {
      "text/plain": [
       "tensor([[ 4.7287e-08,  9.3286e-08, -6.1193e-09,  ..., -9.2343e-08,\n",
       "          4.4244e-08, -4.9137e-09]])"
      ]
     },
     "execution_count": 143,
     "metadata": {},
     "output_type": "execute_result"
    }
   ],
   "source": [
    "# initialize random noise\n",
    "NOISE_SCALE = .0000001\n",
    "im_n_initialized = [(torch.randn_like(signal)) * NOISE_SCALE][0] #).detach().cpu().numpy()\n",
    "im_n_initialized"
   ]
  },
  {
   "cell_type": "markdown",
   "metadata": {},
   "source": [
    "# Define loss"
   ]
  },
  {
   "cell_type": "code",
   "execution_count": 151,
   "metadata": {
    "vscode": {
     "languageId": "python"
    }
   },
   "outputs": [],
   "source": [
    "class InversionLossLayer_ecapa(torch.nn.Module):\n",
    "    \"\"\"Loss used for most metamer generation experiments\"\"\"\n",
    "    def __init__(self, normalize_loss=False):\n",
    "        super(InversionLossLayer_ecapa, self).__init__()\n",
    "        self.normalize_loss = normalize_loss\n",
    "\n",
    "    def forward(self, model, inp, targ):\n",
    "        # Change to get ecapa model embeddings\n",
    "        all_outputs = model.encode_batch(inp)\n",
    "        rep = all_outputs[0]\n",
    "\n",
    "        if self.normalize_loss:\n",
    "            loss = torch.div(torch.norm(rep - targ, dim=1), torch.norm(targ, dim=1))\n",
    "        else:\n",
    "            loss = torch.norm(rep - targ, dim=1)\n",
    "        return loss, None"
   ]
  },
  {
   "cell_type": "code",
   "execution_count": 152,
   "metadata": {
    "vscode": {
     "languageId": "python"
    }
   },
   "outputs": [],
   "source": [
    "# params\n",
    "normalize_loss = False ###UPDATE: idk"
   ]
  },
  {
   "cell_type": "code",
   "execution_count": 153,
   "metadata": {
    "vscode": {
     "languageId": "python"
    }
   },
   "outputs": [],
   "source": [
    "calc_loss = InversionLossLayer_ecapa(normalize_loss = normalize_loss)"
   ]
  },
  {
   "cell_type": "markdown",
   "metadata": {},
   "source": [
    "# Iterate through and update Noise\n",
    "\n",
    "- might need to constrain the update of noise"
   ]
  },
  {
   "cell_type": "code",
   "execution_count": 161,
   "metadata": {
    "vscode": {
     "languageId": "python"
    }
   },
   "outputs": [],
   "source": [
    "# params\n",
    "# synth_kwargs = {\n",
    "#     'custom_loss': custom_synthesis_losses.LOSSES[LOSS_FUNCTION](layer_to_invert, normalize_loss=True),\n",
    "#     'constraint':'2',\n",
    "#     'eps':100000,\n",
    "#     'step_size': step_size,\n",
    "#     'iterations': ITERATIONS,\n",
    "#     'do_tqdm': False,\n",
    "#     'targeted': True,\n",
    "#     'use_best': False\n",
    "# }\n",
    "eps = 100000\n",
    "step_size = 1\n",
    "\n",
    "\n",
    "random_start = 0 #UPDATE: IDK\n",
    "do_tqdm = 0 # import \n",
    "\n",
    "targeted = 1\n",
    "m = -1 if targeted else 1 #UPDATE: idk\n",
    "\n",
    "dataset_min_value = signal.min()\n",
    "dataset_max_value = signal.max()\n",
    "\n",
    "use_best = 0 #\n",
    "\n",
    "iterations = 100 # in the pipeline Janelle uses 3000\n",
    "return_image = 1\n",
    "\n",
    "est_grad = None"
   ]
  },
  {
   "cell_type": "code",
   "execution_count": 162,
   "metadata": {
    "vscode": {
     "languageId": "python"
    }
   },
   "outputs": [],
   "source": [
    "# Iter n times\n",
    "# set noise as parameters to update\n",
    "\n",
    "# update these parameters \n",
    "step = L2Step(eps=eps, orig_input=signal, step_size=step_size,\n",
    "            min_value=dataset_min_value, max_value=dataset_max_value)\n"
   ]
  },
  {
   "cell_type": "code",
   "execution_count": 165,
   "metadata": {
    "vscode": {
     "languageId": "python"
    }
   },
   "outputs": [],
   "source": [
    "# Main function for making adversarial examples\n",
    "def get_adv_examples(x):\n",
    "    # Random start (to escape certain types of gradient masking)\n",
    "    if random_start:\n",
    "        x = step.random_perturb(x)\n",
    "\n",
    "    iterator = range(iterations)\n",
    "    if do_tqdm: iterator = tqdm(iterator)\n",
    "\n",
    "    # Keep track of the \"best\" (worst-case) loss and its\n",
    "    # corresponding input\n",
    "    best_loss = None\n",
    "    best_x = None\n",
    "\n",
    "    # A function that updates the best loss and best input\n",
    "    def replace_best(loss, bloss, x, bx):\n",
    "        if bloss is None:\n",
    "            bx = x.clone().detach()\n",
    "            bloss = loss.clone().detach()\n",
    "        else:\n",
    "            replace = m * bloss < m * loss\n",
    "            bx[replace] = x[replace].clone().detach()\n",
    "            bloss[replace] = loss[replace]\n",
    "\n",
    "        return bloss, bx\n",
    "\n",
    "    # PGD iterates\n",
    "    for _ in iterator:\n",
    "        x = x.clone().detach().requires_grad_(True)\n",
    "        losses, out = calc_loss(model, step.to_image(x), target)\n",
    "        assert losses.shape[0] == x.shape[0], \\\n",
    "                'Shape of losses must match input!'\n",
    "\n",
    "        loss = torch.mean(losses)\n",
    "\n",
    "        if step.use_grad:\n",
    "            if est_grad is None:\n",
    "                grad, = torch.autograd.grad(m * loss, [x])\n",
    "            # else:\n",
    "            #     f = lambda _x, _y: m * calc_loss(step.to_image(_x), _y)[0]\n",
    "            #     grad = helpers.calc_est_grad(f, x, target, *est_grad)\n",
    "        else:\n",
    "            grad = None\n",
    "\n",
    "        with torch.no_grad():\n",
    "            args = [losses, best_loss, x, best_x]\n",
    "            best_loss, best_x = replace_best(*args) if use_best else (losses, x)\n",
    "\n",
    "            x = step.step(x, grad)\n",
    "            x = step.project(x)\n",
    "            if do_tqdm: iterator.set_description(\"Current loss: {l}\".format(l=loss))\n",
    "\n",
    "    # Save computation (don't compute last loss) if not use_best\n",
    "    if not use_best: \n",
    "        ret = x.clone().detach()\n",
    "        return step.to_image(ret) if return_image else ret\n",
    "\n",
    "    losses, _ = calc_loss(model, step.to_image(x), target)\n",
    "    args = [losses, best_loss, x, best_x]\n",
    "    best_loss, best_x = replace_best(*args)\n",
    "    return step.to_image(best_x) if return_image else best_x\n"
   ]
  },
  {
   "cell_type": "code",
   "execution_count": 166,
   "metadata": {
    "vscode": {
     "languageId": "python"
    }
   },
   "outputs": [],
   "source": [
    "xadv = get_adv_examples(im_n_initialized)\n",
    "this_loss = calc_loss(model, xadv, target.clone())"
   ]
  },
  {
   "cell_type": "code",
   "execution_count": 178,
   "metadata": {
    "vscode": {
     "languageId": "python"
    }
   },
   "outputs": [
    {
     "name": "stdout",
     "output_type": "stream",
     "text": [
      "Iteration: 0, Loss: (tensor([500.3569]), None)\n"
     ]
    }
   ],
   "source": [
    "for i in range(iterations):\n",
    "\n",
    "    im_n = xadv\n",
    "    # step.step_size = step.step_size/2\n",
    "    # get metamer\n",
    "    xadv = get_adv_examples(im_n)\n",
    "    # calculate new loss\n",
    "    this_loss = calc_loss(model, xadv, target.clone())\n",
    "    if i%10 == 0:\n",
    "        print(f'Iteration: {i}, Loss: {this_loss}')"
   ]
  },
  {
   "cell_type": "code",
   "execution_count": null,
   "metadata": {
    "vscode": {
     "languageId": "python"
    }
   },
   "outputs": [
    {
     "data": {
      "text/html": [
       "\n",
       "                <audio  controls=\"controls\" >\n",
       "                    <source src=\"data:audio/wav;base64,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\" type=\"audio/wav\" />\n",
       "                    Your browser does not support the audio element.\n",
       "                </audio>\n",
       "              "
      ],
      "text/plain": [
       "<IPython.lib.display.Audio object>"
      ]
     },
     "execution_count": 177,
     "metadata": {},
     "output_type": "execute_result"
    }
   ],
   "source": [
    "# play metamer\n",
    "import IPython.display as ipd\n",
    "ipd.Audio(xadv.numpy()[0], rate=16000)"
   ]
  },
  {
   "cell_type": "code",
   "execution_count": 179,
   "metadata": {
    "vscode": {
     "languageId": "python"
    }
   },
   "outputs": [
    {
     "ename": "NameError",
     "evalue": "name 'test' is not defined",
     "output_type": "error",
     "traceback": [
      "\u001b[0;31m---------------------------------------------------------------------------\u001b[0m",
      "\u001b[0;31mNameError\u001b[0m                                 Traceback (most recent call last)",
      "Cell \u001b[0;32mIn[179], line 1\u001b[0m\n\u001b[0;32m----> 1\u001b[0m \u001b[43mtest\u001b[49m\n",
      "\u001b[0;31mNameError\u001b[0m: name 'test' is not defined"
     ]
    }
   ],
   "source": [
    "print('test')"
   ]
  },
  {
   "cell_type": "code",
   "execution_count": null,
   "metadata": {
    "vscode": {
     "languageId": "python"
    }
   },
   "outputs": [],
   "source": []
  },
  {
   "cell_type": "markdown",
   "metadata": {},
   "source": [
    "\n",
    "Perform Speaker Verification"
   ]
  },
  {
   "cell_type": "code",
   "execution_count": null,
   "metadata": {
    "vscode": {
     "languageId": "python"
    }
   },
   "outputs": [],
   "source": [
    "# Get embedding for speaker\n",
    "classifier = EncoderClassifier.from_hparams(source=\"speechbrain/spkrec-ecapa-voxceleb\")\n",
    "signal, fs = torchaudio.load(audio)\n",
    "# make sure to resample to appropriate frequency\n",
    "resampler = T.Resample(fs, 16000, dtype=signal.dtype)\n",
    "signal = resampler(signal)\n",
    "embeddings = classifier.encode_batch(signal)"
   ]
  },
  {
   "cell_type": "code",
   "execution_count": 32,
   "metadata": {
    "vscode": {
     "languageId": "python"
    }
   },
   "outputs": [
    {
     "name": "stdout",
     "output_type": "stream",
     "text": [
      "tensor([1.]) tensor([True])\n"
     ]
    }
   ],
   "source": [
    "# verify if 2 speakers are the same\n",
    "verification = SpeakerRecognition.from_hparams(source=\"speechbrain/spkrec-ecapa-voxceleb\", savedir=\"pretrained_models/spkrec-ecapa-voxceleb\")\n",
    "# score, prediction = verification.verify_files(audio, audio) # Same Speaker\n",
    "# print(score, prediction)\n",
    "\n",
    "score, prediction = verification.verify_files(audio, audio2) # Different Speakers\n",
    "print(score, prediction)\n"
   ]
  },
  {
   "cell_type": "code",
   "execution_count": 36,
   "metadata": {
    "vscode": {
     "languageId": "python"
    }
   },
   "outputs": [
    {
     "data": {
      "text/plain": [
       "(20000,\n",
       " array([ 0.00759776,  0.00406835, -0.00337481, ..., -0.01439899,\n",
       "        -0.0056413 ,  0.01752515], dtype=float32))"
      ]
     },
     "execution_count": 36,
     "metadata": {},
     "output_type": "execute_result"
    }
   ],
   "source": [
    "import scipy\n",
    "scipy.io.wavfile.read(audio)"
   ]
  },
  {
   "cell_type": "markdown",
   "metadata": {},
   "source": []
  },
  {
   "cell_type": "code",
   "execution_count": 27,
   "metadata": {
    "vscode": {
     "languageId": "python"
    }
   },
   "outputs": [
    {
     "data": {
      "text/plain": [
       "tensor([[[ 13.6807, -21.5077,  16.5698,  27.3773,  20.9341,  -2.6867,  47.9093,\n",
       "           10.9244,  43.0350, -29.4488, -50.7251,  23.6661,  36.2392,   5.4932,\n",
       "            4.8596, -14.1890,  -7.8909,   3.0897,  40.3050, -14.0334, -18.2770,\n",
       "          -19.1589,  33.1250, -16.0443, -15.0739,  -6.6625, -21.3170,  -4.1494,\n",
       "           14.0383, -15.5008, -30.3342,  41.4378,  25.2998,   7.5653,  15.8887,\n",
       "           10.5355, -24.6812, -25.7595, -19.5165,   2.4563,  23.4598,  12.1603,\n",
       "          -14.5642,  -8.9963,   8.4244, -45.2159,  23.8665,  12.0209,  -9.0004,\n",
       "           29.5747,  15.1678,  17.9769, -12.2870,   0.7903,  10.2497,  11.3309,\n",
       "           -9.3533,  -0.3147,   7.0483, -10.6227,   5.6716, -13.1225, -24.9788,\n",
       "            6.1509,  48.9741, -20.4996,  -0.8317, -11.3773,  27.6694, -15.0420,\n",
       "            8.6980, -20.4009,  15.0508,  13.3836, -20.7181,  -4.8599, -22.3480,\n",
       "          -35.1690, -11.5540,  14.0490, -29.5636,  29.2453,  21.0988,  40.4526,\n",
       "           50.2919, -13.8887, -21.6431,  -9.9248,  -9.1962,  -2.9276,  -7.0444,\n",
       "          -38.1359,  39.2166,  37.8656,  -9.5143,  37.6102,  27.1740, -19.6869,\n",
       "           -3.0432,  14.4827, -22.1826, -12.8738,  -2.0284, -33.0292,  37.6878,\n",
       "           -4.1000, -32.6151, -19.4412,  31.0585, -14.5880,  20.8503,  -4.7765,\n",
       "          -25.2200,   3.1581,  -6.6610,  33.7479,  37.1570, -20.8982,   1.6824,\n",
       "           -4.0898,  25.4413,  19.2584,  46.2135, -12.0263,  19.2132,  -1.1828,\n",
       "          -16.4516, -29.2477, -23.4088,   9.3969,   7.3238,  17.0340, -12.7715,\n",
       "          -40.8065,  11.1995,  -7.3251,  12.2980, -10.5231,   1.2568,  21.3036,\n",
       "           -9.7688,  -2.0788,  -3.6515,  -7.0545,  11.6758,  -0.4620, -32.1179,\n",
       "           13.2240,   2.4585, -50.8020,  16.5393, -37.4549,  18.3970, -14.2477,\n",
       "           -8.7477, -21.4266, -15.9857,   4.4624,  32.9570, -47.7712, -32.1362,\n",
       "           -2.3840,  37.3189,  -8.4452,  -0.9736,  34.4343, -38.1971, -12.8870,\n",
       "          -10.9011,  29.8694,  34.0624, -23.7648,  10.3747,   0.2858, -23.0930,\n",
       "          -23.8754,   0.8583,   0.4052, -27.4723,  13.9406,  -5.0013, -36.0990,\n",
       "           16.2367, -32.9408,  13.4850,   8.6084, -13.1577, -17.3568,   1.4543,\n",
       "          -11.6852,  18.8209,  -2.9398]]])"
      ]
     },
     "execution_count": 27,
     "metadata": {},
     "output_type": "execute_result"
    }
   ],
   "source": [
    "embeddings"
   ]
  },
  {
   "cell_type": "code",
   "execution_count": 53,
   "metadata": {
    "vscode": {
     "languageId": "python"
    }
   },
   "outputs": [
    {
     "data": {
      "text/plain": [
       "['mods']"
      ]
     },
     "execution_count": 53,
     "metadata": {},
     "output_type": "execute_result"
    }
   ],
   "source": [
    "list(classifier._modules)"
   ]
  },
  {
   "cell_type": "code",
   "execution_count": 55,
   "metadata": {
    "vscode": {
     "languageId": "python"
    }
   },
   "outputs": [
    {
     "data": {
      "text/plain": [
       "Classifier(\n",
       "  (blocks): ModuleList()\n",
       ")"
      ]
     },
     "execution_count": 55,
     "metadata": {},
     "output_type": "execute_result"
    }
   ],
   "source": [
    "classifier._modules['mods']['classifier']"
   ]
  },
  {
   "cell_type": "code",
   "execution_count": 39,
   "metadata": {
    "vscode": {
     "languageId": "python"
    }
   },
   "outputs": [
    {
     "data": {
      "text/plain": [
       "tensor([[[-1.1256e+01, -4.4376e+00,  5.4710e+00, -4.4777e-01,  9.3813e+00,\n",
       "          -1.7214e+01,  2.0267e+01, -6.4316e+00,  1.1311e+00, -6.9549e+00,\n",
       "          -5.6514e+01,  1.5606e+01,  7.6293e+00,  9.4477e+00,  5.0318e+00,\n",
       "           6.7749e+00,  2.2657e+01,  6.6792e+00,  1.2737e+01,  4.7252e+00,\n",
       "          -1.1207e+00, -3.8659e+01,  5.9548e+01,  1.3946e+01, -2.6766e+01,\n",
       "          -1.5729e+01, -6.6083e+00, -2.0886e+01, -3.2234e+01, -3.1146e+01,\n",
       "           5.3255e+00,  1.0481e+01,  2.7337e+01,  2.0878e+01,  1.0505e+01,\n",
       "          -5.3502e+00,  1.4651e+01, -3.3391e+00, -1.6250e+00, -3.7518e+01,\n",
       "           3.7116e+01,  2.6891e+01, -3.3418e+01,  1.3859e+01,  7.2535e+00,\n",
       "          -3.0828e+00, -1.5202e+01,  8.6623e+00,  2.5144e+01,  3.2541e+01,\n",
       "           1.8105e+01,  4.8451e+00, -1.4034e+01,  3.1070e+01,  8.0962e+01,\n",
       "          -3.7654e+00, -3.5467e+01,  1.6404e+00, -4.7164e+01,  4.4524e+00,\n",
       "          -4.2345e+00, -1.4514e+01,  6.2556e-02,  4.1281e+00,  4.3622e+01,\n",
       "           1.6985e+01, -1.6516e+01, -2.6540e+01,  2.6727e+00, -3.1603e+01,\n",
       "           3.3258e+00, -3.5505e+01,  1.8720e+01, -2.1808e+01, -1.8872e+00,\n",
       "          -1.3916e+00, -2.7441e+01, -2.4367e+01, -5.7156e+00,  3.8040e+01,\n",
       "          -1.5415e+01, -3.0538e+01, -2.0303e+01,  6.6354e+01,  1.8730e+00,\n",
       "           8.0682e+00, -3.3328e+01,  1.3124e+01, -1.2918e+01, -1.7146e+01,\n",
       "          -2.3829e+01, -2.1727e+01, -6.1440e+00, -2.7612e+01, -1.6384e+01,\n",
       "           2.4526e+01, -6.5893e+00, -3.2722e+01, -1.9887e+01,  2.0634e+01,\n",
       "           1.7477e+01, -2.0259e+01,  3.7455e+01,  9.9712e+00, -1.8061e+01,\n",
       "          -1.9119e+01, -2.7633e+01, -3.4407e+01, -2.3868e+01,  2.3601e+00,\n",
       "           3.3531e-01,  1.3801e+00,  7.2202e+00,  1.6068e+00,  1.3931e+01,\n",
       "           2.4974e+01,  3.9576e+00, -1.2300e+00,  2.1811e+01, -2.1508e+01,\n",
       "           3.4360e+00,  5.9893e+01,  1.8813e+01,  2.9763e+01,  6.5974e+01,\n",
       "          -7.8075e+00, -2.5831e+01,  2.4590e+00, -5.1430e+00,  6.1580e+00,\n",
       "          -9.1837e+00, -8.3032e+00,  3.6710e+00,  2.1130e+01, -1.8913e+01,\n",
       "           7.3471e+00,  3.2700e+01, -1.4631e+01, -1.1275e+01, -1.5276e+01,\n",
       "           1.6434e+01, -4.3338e+01, -1.5480e+01, -1.7518e+01,  2.6551e+01,\n",
       "          -5.4128e+00,  1.0347e+01, -7.9452e+00,  3.4692e+01, -2.6122e+01,\n",
       "          -5.2684e+00,  2.8215e+01,  3.3654e+01,  1.3123e+01,  4.1015e+00,\n",
       "           5.6062e-01, -1.6394e+00, -3.1839e+00,  1.6575e+01, -4.9795e+01,\n",
       "           2.0771e+01,  5.3518e+01,  5.2620e+00,  4.5713e+00, -1.6673e+00,\n",
       "           2.9667e+00, -1.2669e+00, -2.0815e+01,  1.5269e+01, -1.7391e+01,\n",
       "          -3.3846e+00, -2.9206e+01,  8.5009e+00, -9.9963e+00,  3.6224e+01,\n",
       "          -2.4530e+01, -2.8037e+01, -7.1087e+00, -8.4272e+00,  4.8270e+00,\n",
       "           2.1113e+01, -4.2163e+01,  1.2716e+01, -4.7814e+00,  1.7438e+01,\n",
       "           3.1207e+00, -2.3804e+00, -4.5262e+01, -1.1057e+01,  6.8855e+00,\n",
       "          -1.8907e+00, -3.5303e+01]]])"
      ]
     },
     "execution_count": 39,
     "metadata": {},
     "output_type": "execute_result"
    }
   ],
   "source": [
    "embeddings\n"
   ]
  },
  {
   "cell_type": "code",
   "execution_count": 15,
   "metadata": {
    "vscode": {
     "languageId": "python"
    }
   },
   "outputs": [
    {
     "data": {
      "text/plain": [
       "(tensor([1.]), tensor([True]))"
      ]
     },
     "execution_count": 15,
     "metadata": {},
     "output_type": "execute_result"
    }
   ],
   "source": [
    "score, prediction"
   ]
  },
  {
   "cell_type": "code",
   "execution_count": null,
   "metadata": {
    "vscode": {
     "languageId": "python"
    }
   },
   "outputs": [],
   "source": []
  }
 ],
 "metadata": {
  "kernelspec": {
   "display_name": "Python 3 (ipykernel)",
   "language": "python",
   "name": "python3"
  },
  "language_info": {
   "name": "",
   "version": ""
  }
 },
 "nbformat": 4,
 "nbformat_minor": 2
}
